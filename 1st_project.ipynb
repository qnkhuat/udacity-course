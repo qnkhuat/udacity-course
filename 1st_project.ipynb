{
  "nbformat": 4,
  "nbformat_minor": 0,
  "metadata": {
    "colab": {
      "name": "1st project.ipynb",
      "version": "0.3.2",
      "provenance": [],
      "collapsed_sections": []
    },
    "language_info": {
      "codemirror_mode": {
        "name": "ipython",
        "version": 3
      },
      "file_extension": ".py",
      "mimetype": "text/x-python",
      "name": "python",
      "nbconvert_exporter": "python",
      "pygments_lexer": "ipython3",
      "version": "3.6.7"
    },
    "kernelspec": {
      "display_name": "Python 3",
      "language": "python",
      "name": "python3"
    }
  },
  "cells": [
    {
      "cell_type": "code",
      "metadata": {
        "id": "KJpDxInijwd-",
        "colab_type": "code",
        "outputId": "994688f3-58b9-4cc0-c9aa-f896158113c2",
        "colab": {
          "base_uri": "https://localhost:8080/",
          "height": 765
        }
      },
      "source": [
        "! pip install syft"
      ],
      "execution_count": 1,
      "outputs": [
        {
          "output_type": "stream",
          "text": [
            "Requirement already satisfied: syft in /usr/local/lib/python3.6/dist-packages (0.1.19a1)\n",
            "Requirement already satisfied: Flask>=1.0.2 in /usr/local/lib/python3.6/dist-packages (from syft) (1.0.3)\n",
            "Requirement already satisfied: flask-socketio>=3.3.2 in /usr/local/lib/python3.6/dist-packages (from syft) (4.1.0)\n",
            "Requirement already satisfied: tblib>=1.4.0 in /usr/local/lib/python3.6/dist-packages (from syft) (1.4.0)\n",
            "Requirement already satisfied: websocket-client>=0.56.0 in /usr/local/lib/python3.6/dist-packages (from syft) (0.56.0)\n",
            "Requirement already satisfied: numpy>=1.14.0 in /usr/local/lib/python3.6/dist-packages (from syft) (1.16.4)\n",
            "Requirement already satisfied: zstd>=1.4.0.0 in /usr/local/lib/python3.6/dist-packages (from syft) (1.4.0.0)\n",
            "Requirement already satisfied: tf-encrypted>=0.5.4 in /usr/local/lib/python3.6/dist-packages (from syft) (0.5.6)\n",
            "Requirement already satisfied: lz4>=2.1.6 in /usr/local/lib/python3.6/dist-packages (from syft) (2.1.10)\n",
            "Requirement already satisfied: scikit-learn>=0.21.0 in /usr/local/lib/python3.6/dist-packages (from syft) (0.21.2)\n",
            "Requirement already satisfied: torchvision>=0.3.0 in /usr/local/lib/python3.6/dist-packages (from syft) (0.3.0)\n",
            "Requirement already satisfied: websockets>=7.0 in /usr/local/lib/python3.6/dist-packages (from syft) (7.0)\n",
            "Requirement already satisfied: torch>=1.1 in /usr/local/lib/python3.6/dist-packages (from syft) (1.1.0)\n",
            "Requirement already satisfied: msgpack>=0.6.1 in /usr/local/lib/python3.6/dist-packages (from syft) (0.6.1)\n",
            "Requirement already satisfied: itsdangerous>=0.24 in /usr/local/lib/python3.6/dist-packages (from Flask>=1.0.2->syft) (1.1.0)\n",
            "Requirement already satisfied: Jinja2>=2.10 in /usr/local/lib/python3.6/dist-packages (from Flask>=1.0.2->syft) (2.10.1)\n",
            "Requirement already satisfied: click>=5.1 in /usr/local/lib/python3.6/dist-packages (from Flask>=1.0.2->syft) (7.0)\n",
            "Requirement already satisfied: Werkzeug>=0.14 in /usr/local/lib/python3.6/dist-packages (from Flask>=1.0.2->syft) (0.15.4)\n",
            "Requirement already satisfied: python-socketio>=2.1.0 in /usr/local/lib/python3.6/dist-packages (from flask-socketio>=3.3.2->syft) (4.1.0)\n",
            "Requirement already satisfied: six in /usr/local/lib/python3.6/dist-packages (from websocket-client>=0.56.0->syft) (1.12.0)\n",
            "Requirement already satisfied: tensorflow<2,>=1.12.0 in /usr/local/lib/python3.6/dist-packages (from tf-encrypted>=0.5.4->syft) (1.14.0rc1)\n",
            "Requirement already satisfied: pyyaml>=5.1 in /usr/local/lib/python3.6/dist-packages (from tf-encrypted>=0.5.4->syft) (5.1.1)\n",
            "Requirement already satisfied: joblib>=0.11 in /usr/local/lib/python3.6/dist-packages (from scikit-learn>=0.21.0->syft) (0.13.2)\n",
            "Requirement already satisfied: scipy>=0.17.0 in /usr/local/lib/python3.6/dist-packages (from scikit-learn>=0.21.0->syft) (1.3.0)\n",
            "Requirement already satisfied: pillow>=4.1.1 in /usr/local/lib/python3.6/dist-packages (from torchvision>=0.3.0->syft) (4.3.0)\n",
            "Requirement already satisfied: MarkupSafe>=0.23 in /usr/local/lib/python3.6/dist-packages (from Jinja2>=2.10->Flask>=1.0.2->syft) (1.1.1)\n",
            "Requirement already satisfied: python-engineio>=3.8.0 in /usr/local/lib/python3.6/dist-packages (from python-socketio>=2.1.0->flask-socketio>=3.3.2->syft) (3.8.1)\n",
            "Requirement already satisfied: tensorboard<1.14.0,>=1.13.0 in /usr/local/lib/python3.6/dist-packages (from tensorflow<2,>=1.12.0->tf-encrypted>=0.5.4->syft) (1.13.1)\n",
            "Requirement already satisfied: wrapt>=1.11.1 in /usr/local/lib/python3.6/dist-packages (from tensorflow<2,>=1.12.0->tf-encrypted>=0.5.4->syft) (1.11.1)\n",
            "Requirement already satisfied: google-pasta>=0.1.6 in /usr/local/lib/python3.6/dist-packages (from tensorflow<2,>=1.12.0->tf-encrypted>=0.5.4->syft) (0.1.7)\n",
            "Requirement already satisfied: keras-preprocessing>=1.0.5 in /usr/local/lib/python3.6/dist-packages (from tensorflow<2,>=1.12.0->tf-encrypted>=0.5.4->syft) (1.1.0)\n",
            "Requirement already satisfied: absl-py>=0.7.0 in /usr/local/lib/python3.6/dist-packages (from tensorflow<2,>=1.12.0->tf-encrypted>=0.5.4->syft) (0.7.1)\n",
            "Requirement already satisfied: astor>=0.6.0 in /usr/local/lib/python3.6/dist-packages (from tensorflow<2,>=1.12.0->tf-encrypted>=0.5.4->syft) (0.8.0)\n",
            "Requirement already satisfied: protobuf>=3.6.1 in /usr/local/lib/python3.6/dist-packages (from tensorflow<2,>=1.12.0->tf-encrypted>=0.5.4->syft) (3.7.1)\n",
            "Requirement already satisfied: tensorflow-estimator<1.15.0rc0,>=1.14.0rc0 in /usr/local/lib/python3.6/dist-packages (from tensorflow<2,>=1.12.0->tf-encrypted>=0.5.4->syft) (1.14.0rc1)\n",
            "Requirement already satisfied: grpcio>=1.8.6 in /usr/local/lib/python3.6/dist-packages (from tensorflow<2,>=1.12.0->tf-encrypted>=0.5.4->syft) (1.15.0)\n",
            "Requirement already satisfied: termcolor>=1.1.0 in /usr/local/lib/python3.6/dist-packages (from tensorflow<2,>=1.12.0->tf-encrypted>=0.5.4->syft) (1.1.0)\n",
            "Requirement already satisfied: keras-applications>=1.0.6 in /usr/local/lib/python3.6/dist-packages (from tensorflow<2,>=1.12.0->tf-encrypted>=0.5.4->syft) (1.0.8)\n",
            "Requirement already satisfied: gast>=0.2.0 in /usr/local/lib/python3.6/dist-packages (from tensorflow<2,>=1.12.0->tf-encrypted>=0.5.4->syft) (0.2.2)\n",
            "Requirement already satisfied: wheel>=0.26 in /usr/local/lib/python3.6/dist-packages (from tensorflow<2,>=1.12.0->tf-encrypted>=0.5.4->syft) (0.33.4)\n",
            "Requirement already satisfied: olefile in /usr/local/lib/python3.6/dist-packages (from pillow>=4.1.1->torchvision>=0.3.0->syft) (0.46)\n",
            "Requirement already satisfied: markdown>=2.6.8 in /usr/local/lib/python3.6/dist-packages (from tensorboard<1.14.0,>=1.13.0->tensorflow<2,>=1.12.0->tf-encrypted>=0.5.4->syft) (3.1.1)\n",
            "Requirement already satisfied: setuptools in /usr/local/lib/python3.6/dist-packages (from protobuf>=3.6.1->tensorflow<2,>=1.12.0->tf-encrypted>=0.5.4->syft) (41.0.1)\n",
            "Requirement already satisfied: h5py in /usr/local/lib/python3.6/dist-packages (from keras-applications>=1.0.6->tensorflow<2,>=1.12.0->tf-encrypted>=0.5.4->syft) (2.8.0)\n"
          ],
          "name": "stdout"
        }
      ]
    },
    {
      "cell_type": "code",
      "metadata": {
        "id": "Q7Y1nsdDj1wi",
        "colab_type": "code",
        "outputId": "9aa45af4-2f7c-4843-f3e6-f41dc293d27f",
        "colab": {
          "base_uri": "https://localhost:8080/",
          "height": 105
        }
      },
      "source": [
        "import torch\n",
        "import torch.nn as nn\n",
        "import torch.nn.functional as F\n",
        "import torch.optim as optim\n",
        "from torchvision import datasets, transforms\n",
        "from torch.utils.data import SubsetRandomSampler, Subset\n",
        "\n",
        "import numpy as np\n",
        "from syft.frameworks.torch.differential_privacy import pate"
      ],
      "execution_count": 2,
      "outputs": [
        {
          "output_type": "stream",
          "text": [
            "WARNING: Logging before flag parsing goes to stderr.\n",
            "W0626 08:15:36.194712 140556153022336 secure_random.py:26] Falling back to insecure randomness since the required custom op could not be found for the installed version of TensorFlow. Fix this by compiling custom ops. Missing file was '/usr/local/lib/python3.6/dist-packages/tf_encrypted/operations/secure_random/secure_random_module_tf_1.14.0-rc1.so'\n",
            "W0626 08:15:36.211523 140556153022336 deprecation_wrapper.py:119] From /usr/local/lib/python3.6/dist-packages/tf_encrypted/session.py:26: The name tf.Session is deprecated. Please use tf.compat.v1.Session instead.\n",
            "\n"
          ],
          "name": "stderr"
        }
      ]
    },
    {
      "cell_type": "code",
      "metadata": {
        "id": "-b55Nv_pjprE",
        "colab_type": "code",
        "colab": {}
      },
      "source": [
        "def create_data_loaders (num_training_loaders):\n",
        "\n",
        "    # Define a transform to normalize the data\n",
        "    transform=transforms.Compose([transforms.ToTensor(),\n",
        "                                  transforms.Normalize((0.1307,), (0.3081,))])\n",
        "    # Download and load the training data\n",
        "    mnist_trainset = datasets.MNIST(root='./data', train=True, download=True, transform=transform)\n",
        "    # Set up the trainloaders list\n",
        "    trainloaders = []\n",
        "    data_per_set = int(len(mnist_trainset) / num_training_loaders)\n",
        "    for i in range(num_training_loaders):\n",
        "        train_indices = range(i*data_per_set,i*data_per_set+data_per_set)\n",
        "        trainloaders.append(torch.utils.data.DataLoader(mnist_trainset, \n",
        "                                                         batch_size=32, \n",
        "                                                         sampler=SubsetRandomSampler(train_indices)))\n",
        "\n",
        "\n",
        "    return trainloaders"
      ],
      "execution_count": 0,
      "outputs": []
    },
    {
      "cell_type": "code",
      "metadata": {
        "id": "wvVX_gfXCUgN",
        "colab_type": "code",
        "colab": {}
      },
      "source": [
        "def create_testloader(noise_labels):\n",
        "    transform=transforms.Compose([transforms.ToTensor(),\n",
        "                                      transforms.Normalize((0.1307,), (0.3081,))])\n",
        "    mnist_testset = datasets.MNIST(root='./data', train=False, download=True, transform=transform)\n",
        "    \n",
        "    mnist_test_train = Subset(mnist_testset,range(9000))\n",
        "    mnist_test_train.targets = noise_labels # replace with the noise labels\n",
        "    \n",
        "    mnist_test_test = Subset(mnist_testset,range(9000,10001))\n",
        "    # Set up the testloader\n",
        "    # Use for train student model\n",
        "    testtrainloader = torch.utils.data.DataLoader(mnist_test_train, batch_size=32, shuffle=False)\n",
        "    testtrain_targets = mnist_testset.test_labels[:9000]\n",
        "\n",
        "    # Use for evaluate the student model\n",
        "    testtestloader = torch.utils.data.DataLoader(mnist_test_test, batch_size=1000, shuffle=False)\n",
        "    testtest_targets = mnist_testset.test_labels[9000:]\n",
        "    return testtrainloader, testtestloader, testtest_targets"
      ],
      "execution_count": 0,
      "outputs": []
    },
    {
      "cell_type": "code",
      "metadata": {
        "id": "nuhucMoOjprI",
        "colab_type": "code",
        "colab": {}
      },
      "source": [
        "class Net(nn.Module):\n",
        "    def __init__(self):\n",
        "        super().__init__()\n",
        "        self.fc1 = nn.Linear(784, 256) \n",
        "        self.fc2 = nn.Linear(256, 128)\n",
        "        self.fc3 = nn.Linear(128, 64)\n",
        "        self.fc4 = nn.Linear(64, 10)\n",
        "        \n",
        "    def forward(self, x):\n",
        "        # make sure input tensor is flattened\n",
        "        x = x.view(x.shape[0], -1)\n",
        "        \n",
        "        x = F.relu(self.fc1(x))\n",
        "        x = F.relu(self.fc2(x))\n",
        "        x = F.relu(self.fc3(x))\n",
        "        x = F.log_softmax(self.fc4(x), dim=1)\n",
        "        \n",
        "        return x"
      ],
      "execution_count": 0,
      "outputs": []
    },
    {
      "cell_type": "code",
      "metadata": {
        "id": "cxVII309jprL",
        "colab_type": "code",
        "colab": {}
      },
      "source": [
        "def create_models(n) : return [Net() for i in range(n)]"
      ],
      "execution_count": 0,
      "outputs": []
    },
    {
      "cell_type": "markdown",
      "metadata": {
        "id": "4MyCMC8kjpro",
        "colab_type": "text"
      },
      "source": [
        "# Train the models"
      ]
    },
    {
      "cell_type": "code",
      "metadata": {
        "id": "xuzGmiFEjprp",
        "colab_type": "code",
        "colab": {}
      },
      "source": [
        "num_teachers = 10\n",
        "epochs = 10"
      ],
      "execution_count": 0,
      "outputs": []
    },
    {
      "cell_type": "code",
      "metadata": {
        "id": "4vrx0fJfjprw",
        "colab_type": "code",
        "outputId": "50ee06a3-5ddb-4190-9aa6-398303430036",
        "colab": {
          "base_uri": "https://localhost:8080/",
          "height": 51
        }
      },
      "source": [
        "trainloaders = create_data_loaders(num_teachers)"
      ],
      "execution_count": 7,
      "outputs": [
        {
          "output_type": "stream",
          "text": [
            "/usr/local/lib/python3.6/dist-packages/torchvision/datasets/mnist.py:48: UserWarning: test_labels has been renamed targets\n",
            "  warnings.warn(\"test_labels has been renamed targets\")\n"
          ],
          "name": "stderr"
        }
      ]
    },
    {
      "cell_type": "code",
      "metadata": {
        "id": "Gj8vPScrjpry",
        "colab_type": "code",
        "colab": {}
      },
      "source": [
        "models = create_models(num_teachers)\n",
        "criterion = nn.NLLLoss()"
      ],
      "execution_count": 0,
      "outputs": []
    },
    {
      "cell_type": "code",
      "metadata": {
        "id": "4GYbSD5Tjprz",
        "colab_type": "code",
        "colab": {}
      },
      "source": [
        "def train(model,dataloader,epochs=4):\n",
        "    optimizer = optim.Adam(model.parameters(),lr=1e-2)\n",
        "    for e in range(epochs):\n",
        "        running_loss = 0\n",
        "        preds = torch.tensor([])\n",
        "        for images,labels in dataloader:\n",
        "            optimizer.zero_grad()\n",
        "            \n",
        "            out = model(images)\n",
        "            pred = torch.argmax(torch.exp(out),dim=1) == labels\n",
        "            preds = torch.cat([preds,pred.float()])\n",
        "\n",
        "            loss = criterion(out,labels)\n",
        "            loss.backward()\n",
        "            optimizer.step()\n",
        "            \n",
        "            running_loss += loss\n",
        "            \n",
        "        print(f'Epoch : {e} loss : {running_loss/len(dataloader)} acc : {preds.float().mean()*100}')\n"
      ],
      "execution_count": 0,
      "outputs": []
    },
    {
      "cell_type": "code",
      "metadata": {
        "id": "GfTut8v2jpr0",
        "colab_type": "code",
        "outputId": "d6910ff1-b4d0-4873-b4e5-036cf740dc11",
        "colab": {
          "base_uri": "https://localhost:8080/",
          "height": 1000
        }
      },
      "source": [
        "for i,(model,trainloader)  in enumerate(zip(models,trainloaders)):\n",
        "    print('-'*20)\n",
        "    print(f\"Model {i}\")\n",
        "    train(model,trainloader,epochs)"
      ],
      "execution_count": 10,
      "outputs": [
        {
          "output_type": "stream",
          "text": [
            "--------------------\n",
            "Model 0\n",
            "Epoch : 0 loss : 0.6454094648361206 acc : 79.81666564941406\n",
            "Epoch : 1 loss : 0.35386961698532104 acc : 90.21666717529297\n",
            "Epoch : 2 loss : 0.32891884446144104 acc : 91.26667022705078\n",
            "Epoch : 3 loss : 0.25572460889816284 acc : 93.16666412353516\n",
            "Epoch : 4 loss : 0.20851874351501465 acc : 94.66666412353516\n",
            "Epoch : 5 loss : 0.20389479398727417 acc : 94.58333587646484\n",
            "Epoch : 6 loss : 0.191820427775383 acc : 95.31666564941406\n",
            "Epoch : 7 loss : 0.2108403444290161 acc : 94.48333740234375\n",
            "Epoch : 8 loss : 0.24871844053268433 acc : 93.86666107177734\n",
            "Epoch : 9 loss : 0.21632781624794006 acc : 95.05000305175781\n",
            "--------------------\n",
            "Model 1\n",
            "Epoch : 0 loss : 0.6815393567085266 acc : 78.66667175292969\n",
            "Epoch : 1 loss : 0.3393597900867462 acc : 90.4000015258789\n",
            "Epoch : 2 loss : 0.28933101892471313 acc : 91.94999694824219\n",
            "Epoch : 3 loss : 0.3019282817840576 acc : 92.21666717529297\n",
            "Epoch : 4 loss : 0.2674931585788727 acc : 93.0999984741211\n",
            "Epoch : 5 loss : 0.2070809006690979 acc : 94.63333129882812\n",
            "Epoch : 6 loss : 0.16190209984779358 acc : 95.41666412353516\n",
            "Epoch : 7 loss : 0.18506492674350739 acc : 95.01666259765625\n",
            "Epoch : 8 loss : 0.22271716594696045 acc : 94.71666717529297\n",
            "Epoch : 9 loss : 0.18664804100990295 acc : 95.51666259765625\n",
            "--------------------\n",
            "Model 2\n",
            "Epoch : 0 loss : 0.6860064268112183 acc : 78.16667175292969\n",
            "Epoch : 1 loss : 0.3676327168941498 acc : 89.4000015258789\n",
            "Epoch : 2 loss : 0.3150871694087982 acc : 91.13333129882812\n",
            "Epoch : 3 loss : 0.2718075215816498 acc : 92.46666717529297\n",
            "Epoch : 4 loss : 0.18781426548957825 acc : 94.5\n",
            "Epoch : 5 loss : 0.21932202577590942 acc : 94.61666870117188\n",
            "Epoch : 6 loss : 0.2779546082019806 acc : 93.13333892822266\n",
            "Epoch : 7 loss : 0.1905008852481842 acc : 94.96666717529297\n",
            "Epoch : 8 loss : 0.24917522072792053 acc : 94.25\n",
            "Epoch : 9 loss : 0.2534998655319214 acc : 93.48333740234375\n",
            "--------------------\n",
            "Model 3\n",
            "Epoch : 0 loss : 0.6720312237739563 acc : 78.16667175292969\n",
            "Epoch : 1 loss : 0.31794869899749756 acc : 91.61666870117188\n",
            "Epoch : 2 loss : 0.2738679051399231 acc : 92.43333435058594\n",
            "Epoch : 3 loss : 0.25044211745262146 acc : 93.41666412353516\n",
            "Epoch : 4 loss : 0.22741037607192993 acc : 94.06666564941406\n",
            "Epoch : 5 loss : 0.1798720508813858 acc : 95.11666870117188\n",
            "Epoch : 6 loss : 0.19069911539554596 acc : 95.1500015258789\n",
            "Epoch : 7 loss : 0.2537730932235718 acc : 94.4000015258789\n",
            "Epoch : 8 loss : 0.20560798048973083 acc : 95.0\n",
            "Epoch : 9 loss : 0.13128672540187836 acc : 96.80000305175781\n",
            "--------------------\n",
            "Model 4\n",
            "Epoch : 0 loss : 0.6775826811790466 acc : 78.66667175292969\n",
            "Epoch : 1 loss : 0.3551974296569824 acc : 90.06666564941406\n",
            "Epoch : 2 loss : 0.3060690462589264 acc : 92.04999542236328\n",
            "Epoch : 3 loss : 0.2503165006637573 acc : 93.03333282470703\n",
            "Epoch : 4 loss : 0.2211167961359024 acc : 94.28333282470703\n",
            "Epoch : 5 loss : 0.2095586508512497 acc : 95.06666564941406\n",
            "Epoch : 6 loss : 0.23728981614112854 acc : 94.19999694824219\n",
            "Epoch : 7 loss : 0.19468967616558075 acc : 95.08332824707031\n",
            "Epoch : 8 loss : 0.20859405398368835 acc : 95.1500015258789\n",
            "Epoch : 9 loss : 0.1883363574743271 acc : 95.6500015258789\n",
            "--------------------\n",
            "Model 5\n",
            "Epoch : 0 loss : 0.7291215062141418 acc : 76.21666717529297\n",
            "Epoch : 1 loss : 0.34963294863700867 acc : 90.16666412353516\n",
            "Epoch : 2 loss : 0.3279259204864502 acc : 90.78333282470703\n",
            "Epoch : 3 loss : 0.2923160195350647 acc : 92.33333587646484\n",
            "Epoch : 4 loss : 0.2130913883447647 acc : 94.0999984741211\n",
            "Epoch : 5 loss : 0.2416902482509613 acc : 93.66666412353516\n",
            "Epoch : 6 loss : 0.16208520531654358 acc : 95.66666412353516\n",
            "Epoch : 7 loss : 0.17365367710590363 acc : 95.06666564941406\n",
            "Epoch : 8 loss : 0.17045021057128906 acc : 95.31666564941406\n",
            "Epoch : 9 loss : 0.1763613075017929 acc : 95.41666412353516\n",
            "--------------------\n",
            "Model 6\n",
            "Epoch : 0 loss : 0.6676517128944397 acc : 78.88333129882812\n",
            "Epoch : 1 loss : 0.3927471935749054 acc : 89.25\n",
            "Epoch : 2 loss : 0.3161674439907074 acc : 91.8499984741211\n",
            "Epoch : 3 loss : 0.2725079655647278 acc : 92.56666564941406\n",
            "Epoch : 4 loss : 0.2347271740436554 acc : 93.5999984741211\n",
            "Epoch : 5 loss : 0.19561807811260223 acc : 94.63333129882812\n",
            "Epoch : 6 loss : 0.2124050408601761 acc : 94.70000457763672\n",
            "Epoch : 7 loss : 0.24353528022766113 acc : 93.91666412353516\n",
            "Epoch : 8 loss : 0.19532422721385956 acc : 95.30000305175781\n",
            "Epoch : 9 loss : 0.18481440842151642 acc : 95.4000015258789\n",
            "--------------------\n",
            "Model 7\n",
            "Epoch : 0 loss : 0.6928552389144897 acc : 78.13333129882812\n",
            "Epoch : 1 loss : 0.3427688181400299 acc : 90.01667022705078\n",
            "Epoch : 2 loss : 0.28878557682037354 acc : 91.5999984741211\n",
            "Epoch : 3 loss : 0.2462175488471985 acc : 93.06666564941406\n",
            "Epoch : 4 loss : 0.21526245772838593 acc : 93.81666564941406\n",
            "Epoch : 5 loss : 0.24347473680973053 acc : 93.4000015258789\n",
            "Epoch : 6 loss : 0.2269401103258133 acc : 93.83333587646484\n",
            "Epoch : 7 loss : 0.19729018211364746 acc : 94.73333740234375\n",
            "Epoch : 8 loss : 0.18917274475097656 acc : 94.8499984741211\n",
            "Epoch : 9 loss : 0.13416072726249695 acc : 96.48332977294922\n",
            "--------------------\n",
            "Model 8\n",
            "Epoch : 0 loss : 0.6799532771110535 acc : 77.96666717529297\n",
            "Epoch : 1 loss : 0.33398765325546265 acc : 90.23332977294922\n",
            "Epoch : 2 loss : 0.31245824694633484 acc : 91.78333282470703\n",
            "Epoch : 3 loss : 0.26165610551834106 acc : 92.66666412353516\n",
            "Epoch : 4 loss : 0.2653723359107971 acc : 93.25\n",
            "Epoch : 5 loss : 0.20035824179649353 acc : 94.81666564941406\n",
            "Epoch : 6 loss : 0.20961350202560425 acc : 94.48333740234375\n",
            "Epoch : 7 loss : 0.2346619814634323 acc : 94.48333740234375\n",
            "Epoch : 8 loss : 0.15994380414485931 acc : 95.68333435058594\n",
            "Epoch : 9 loss : 0.12509813904762268 acc : 96.69999694824219\n",
            "--------------------\n",
            "Model 9\n",
            "Epoch : 0 loss : 0.5852052569389343 acc : 81.80000305175781\n",
            "Epoch : 1 loss : 0.30096808075904846 acc : 91.51667022705078\n",
            "Epoch : 2 loss : 0.280422180891037 acc : 92.91666412353516\n",
            "Epoch : 3 loss : 0.22055266797542572 acc : 94.11666107177734\n",
            "Epoch : 4 loss : 0.19680027663707733 acc : 94.61666870117188\n",
            "Epoch : 5 loss : 0.24948817491531372 acc : 94.19999694824219\n",
            "Epoch : 6 loss : 0.1852949857711792 acc : 95.20000457763672\n",
            "Epoch : 7 loss : 0.15418365597724915 acc : 95.95000457763672\n",
            "Epoch : 8 loss : 0.14596156775951385 acc : 96.53333282470703\n",
            "Epoch : 9 loss : 0.19079068303108215 acc : 95.33332824707031\n"
          ],
          "name": "stdout"
        }
      ]
    },
    {
      "cell_type": "markdown",
      "metadata": {
        "id": "6bkb1d-zjpr9",
        "colab_type": "text"
      },
      "source": [
        "# Label test set"
      ]
    },
    {
      "cell_type": "code",
      "metadata": {
        "id": "-OxfB6K2jpsB",
        "colab_type": "code",
        "colab": {}
      },
      "source": [
        "def label_data(models,dataloader):\n",
        "    labels = [[] for i in range(len(models))] # all the labels gonna be computed\n",
        "    for img, label in dataloader:\n",
        "        for i, model in enumerate(models):\n",
        "            out = model(img)\n",
        "            out = torch.argmax(out,dim=1).tolist()\n",
        "            labels[i].extend(out) # append to the label of each model\n",
        "    labels = np.array(labels)\n",
        "    return labels"
      ],
      "execution_count": 0,
      "outputs": []
    },
    {
      "cell_type": "code",
      "metadata": {
        "id": "bcjrhQTWjpsH",
        "colab_type": "code",
        "colab": {}
      },
      "source": [
        "labels = label_data(models, testtrainloader) # num_teachers x 9000"
      ],
      "execution_count": 0,
      "outputs": []
    },
    {
      "cell_type": "code",
      "metadata": {
        "id": "6stdL3xBNNiE",
        "colab_type": "code",
        "outputId": "aa8d64d6-e4cd-4d46-a87b-a0f9c1f328da",
        "colab": {
          "base_uri": "https://localhost:8080/",
          "height": 34
        }
      },
      "source": [
        "labels[:,1]"
      ],
      "execution_count": 13,
      "outputs": [
        {
          "output_type": "execute_result",
          "data": {
            "text/plain": [
              "array([8, 2, 2, 2, 2, 2, 2, 2, 2, 0])"
            ]
          },
          "metadata": {
            "tags": []
          },
          "execution_count": 13
        }
      ]
    },
    {
      "cell_type": "code",
      "metadata": {
        "id": "6QpLCxmZEaX4",
        "colab_type": "code",
        "colab": {}
      },
      "source": [
        "import matplotlib.pyplot as plt"
      ],
      "execution_count": 0,
      "outputs": []
    },
    {
      "cell_type": "code",
      "metadata": {
        "id": "TXm6hVC-Dv8_",
        "colab_type": "code",
        "colab": {}
      },
      "source": [
        "def view(n=5):\n",
        "    count = 0\n",
        "    for data ,label in testtrainloader:\n",
        "        for image, l in zip(data,label):\n",
        "            if count > n:\n",
        "                break\n",
        "            \n",
        "            plt.imshow(image[0].numpy())\n",
        "#             plt.title(f\"actual: {str(l)} fd: {np.argmax(labels,axis=0)[count]}\")\n",
        "            plt.title(f\"actual: {str(l)} fd: {labels[:,count]}\")\n",
        "            plt.show()\n",
        "            count+=1"
      ],
      "execution_count": 0,
      "outputs": []
    },
    {
      "cell_type": "code",
      "metadata": {
        "id": "ZwUc6CNbEHHx",
        "colab_type": "code",
        "outputId": "eed1dcf9-f736-4ec8-a70f-ef6de407cdcf",
        "colab": {
          "base_uri": "https://localhost:8080/",
          "height": 1000
        }
      },
      "source": [
        "view(10)"
      ],
      "execution_count": 34,
      "outputs": [
        {
          "output_type": "display_data",
          "data": {
            "image/png": "[encoded data removed]",
            "text/plain": [
              "<Figure size 432x288 with 1 Axes>"
            ]
          },
          "metadata": {
            "tags": []
          }
        },
        {
          "output_type": "display_data",
          "data": {
            "image/png": "[encoded data removed]",
            "text/plain": [
              "<Figure size 432x288 with 1 Axes>"
            ]
          },
          "metadata": {
            "tags": []
          }
        },
        {
          "output_type": "display_data",
          "data": {
            "image/png": "[encoded data removed]",
            "text/plain": [
              "<Figure size 432x288 with 1 Axes>"
            ]
          },
          "metadata": {
            "tags": []
          }
        },
        {
          "output_type": "display_data",
          "data": {
            "image/png": "[encoded data removed]",
            "text/plain": [
              "<Figure size 432x288 with 1 Axes>"
            ]
          },
          "metadata": {
            "tags": []
          }
        },
        {
          "output_type": "display_data",
          "data": {
            "image/png": "[encoded data removed]",
            "text/plain": [
              "<Figure size 432x288 with 1 Axes>"
            ]
          },
          "metadata": {
            "tags": []
          }
        },
        {
          "output_type": "display_data",
          "data": {
            "image/png": "[encoded data removed]",
            "text/plain": [
              "<Figure size 432x288 with 1 Axes>"
            ]
          },
          "metadata": {
            "tags": []
          }
        },
        {
          "output_type": "display_data",
          "data": {
            "image/png": "[encoded data removed]",
            "text/plain": [
              "<Figure size 432x288 with 1 Axes>"
            ]
          },
          "metadata": {
            "tags": []
          }
        },
        {
          "output_type": "display_data",
          "data": {
            "image/png": "[encoded data removed]",
            "text/plain": [
              "<Figure size 432x288 with 1 Axes>"
            ]
          },
          "metadata": {
            "tags": []
          }
        },
        {
          "output_type": "display_data",
          "data": {
            "image/png": "[encoded data removed]",
            "text/plain": [
              "<Figure size 432x288 with 1 Axes>"
            ]
          },
          "metadata": {
            "tags": []
          }
        },
        {
          "output_type": "display_data",
          "data": {
            "image/png": "[encoded data removed]",
            "text/plain": [
              "<Figure size 432x288 with 1 Axes>"
            ]
          },
          "metadata": {
            "tags": []
          }
        },
        {
          "output_type": "display_data",
          "data": {
            "image/png": "[encoded data removed]",
            "text/plain": [
              "<Figure size 432x288 with 1 Axes>"
            ]
          },
          "metadata": {
            "tags": []
          }
        }
      ]
    },
    {
      "cell_type": "code",
      "metadata": {
        "id": "RQNNdpGtLW1N",
        "colab_type": "code",
        "colab": {}
      },
      "source": [
        "def DP(labels,eps):\n",
        "    assert labels.shape == (num_teachers,9000), \"Shape ain't right\"\n",
        "    labels = labels.transpose(1,0) # (10000,10)\n",
        "    new_labels = []\n",
        "    beta = 1 / eps\n",
        "    # loop through samples\n",
        "    for label in labels:\n",
        "        # count the num of labels\n",
        "        label_counts = np.bincount(label, minlength=10).astype(np.float64)\n",
        "        # add noise\n",
        "        label_counts += np.random.laplace(0,beta,len(label_counts)) \n",
        "        new_label = np.argmax(label_counts)\n",
        "        new_labels.append(new_label)\n",
        "        \n",
        "    new_labels = np.array(new_labels)\n",
        "    return new_labels\n",
        "\n"
      ],
      "execution_count": 0,
      "outputs": []
    },
    {
      "cell_type": "code",
      "metadata": {
        "id": "W5iOdg68StwJ",
        "colab_type": "code",
        "colab": {}
      },
      "source": [
        "eps = .11"
      ],
      "execution_count": 0,
      "outputs": []
    },
    {
      "cell_type": "code",
      "metadata": {
        "id": "Zmbj5o2BjpsX",
        "colab_type": "code",
        "colab": {}
      },
      "source": [
        "noise_labels = DP(labels,eps)"
      ],
      "execution_count": 0,
      "outputs": []
    },
    {
      "cell_type": "code",
      "metadata": {
        "id": "dceHTNKfBy02",
        "colab_type": "code",
        "colab": {
          "base_uri": "https://localhost:8080/",
          "height": 51
        },
        "outputId": "934fe833-1cb6-4e66-c16d-f71aabdefdb3"
      },
      "source": [
        "testtrainloader, testtestloader, testtest_targets = create_testloader(noise_labels)"
      ],
      "execution_count": 44,
      "outputs": [
        {
          "output_type": "stream",
          "text": [
            "/usr/local/lib/python3.6/dist-packages/torchvision/datasets/mnist.py:48: UserWarning: test_labels has been renamed targets\n",
            "  warnings.warn(\"test_labels has been renamed targets\")\n"
          ],
          "name": "stderr"
        }
      ]
    },
    {
      "cell_type": "code",
      "metadata": {
        "id": "lmQ8R2rAND9U",
        "colab_type": "code",
        "outputId": "d6310d51-9846-4d30-b2e0-78b36b357cfd",
        "colab": {
          "base_uri": "https://localhost:8080/",
          "height": 34
        }
      },
      "source": [
        "np.mean(noise_labels == testtrain_targets.numpy())"
      ],
      "execution_count": 20,
      "outputs": [
        {
          "output_type": "execute_result",
          "data": {
            "text/plain": [
              "0.264"
            ]
          },
          "metadata": {
            "tags": []
          },
          "execution_count": 20
        }
      ]
    },
    {
      "cell_type": "code",
      "metadata": {
        "id": "yWSw_5wHjpsc",
        "colab_type": "code",
        "colab": {}
      },
      "source": [
        "# data dependant epsilon , data independant epsilon\n",
        "dep_eps ,indep_deps = pate.perform_analysis(teacher_preds=labels, indices=noise_labels, noise_eps=eps)"
      ],
      "execution_count": 0,
      "outputs": []
    },
    {
      "cell_type": "code",
      "metadata": {
        "id": "q166XhK92fad",
        "colab_type": "code",
        "colab": {
          "base_uri": "https://localhost:8080/",
          "height": 34
        },
        "outputId": "5f0a6b1c-e506-44b8-fc47-c8970e029959"
      },
      "source": [
        "dep_eps ,indep_deps"
      ],
      "execution_count": 22,
      "outputs": [
        {
          "output_type": "execute_result",
          "data": {
            "text/plain": [
              "(447.1129254649932, 447.1129254649702)"
            ]
          },
          "metadata": {
            "tags": []
          },
          "execution_count": 22
        }
      ]
    },
    {
      "cell_type": "code",
      "metadata": {
        "id": "dQf507A_Si73",
        "colab_type": "code",
        "outputId": "f89c570a-191c-49dd-a1b6-b199a1751116",
        "colab": {
          "base_uri": "https://localhost:8080/",
          "height": 289
        }
      },
      "source": [
        "for e in [.01,.03,.05,.1]:\n",
        "    noise_labels = DP(labels,e)\n",
        "    dep_eps ,indep_deps = pate.perform_analysis(teacher_preds=labels,indices=noise_labels,noise_eps=e)\n",
        "    print(f\"With {e} :\")\n",
        "    print(f\"data dependent epsilon : {dep_eps}\")\n",
        "    print(f\"data independent epsilon : {indep_deps}\")\n",
        "    print('-'*20)"
      ],
      "execution_count": 36,
      "outputs": [
        {
          "output_type": "stream",
          "text": [
            "With 0.01 :\n",
            "data dependent epsilon : 11.037641821657521\n",
            "data independent epsilon : 11.037641821656743\n",
            "--------------------\n",
            "With 0.03 :\n",
            "data dependent epsilon : 43.91292546496508\n",
            "data independent epsilon : 43.91292546497023\n",
            "--------------------\n",
            "With 0.05 :\n",
            "data dependent epsilon : 101.51292546497936\n",
            "data independent epsilon : 101.51292546497024\n",
            "--------------------\n",
            "With 0.1 :\n",
            "data dependent epsilon : 371.5129254650068\n",
            "data independent epsilon : 371.5129254649703\n",
            "--------------------\n"
          ],
          "name": "stdout"
        }
      ]
    },
    {
      "cell_type": "code",
      "metadata": {
        "id": "dBg-8YScjpsi",
        "colab_type": "code",
        "colab": {}
      },
      "source": [
        "model_test = create_models(1)[0] # create a test model"
      ],
      "execution_count": 0,
      "outputs": []
    },
    {
      "cell_type": "code",
      "metadata": {
        "id": "kqRtQHTtjpsj",
        "colab_type": "code",
        "colab": {
          "base_uri": "https://localhost:8080/",
          "height": 187
        },
        "outputId": "2bd990d3-fbb8-4fab-a29e-d6a4a95e507f"
      },
      "source": [
        "# train model test train data\n",
        "train(model_test, testtrainloader, 20)"
      ],
      "execution_count": 51,
      "outputs": [
        {
          "output_type": "stream",
          "text": [
            "Epoch : 0 loss : 0.23887509107589722 acc : 96.07777404785156\n",
            "Epoch : 1 loss : 0.2613787353038788 acc : 95.03333282470703\n",
            "Epoch : 2 loss : 0.3278201222419739 acc : 94.4888916015625\n",
            "Epoch : 3 loss : 0.2633119225502014 acc : 94.03333282470703\n",
            "Epoch : 4 loss : 0.1567252278327942 acc : 96.54444122314453\n",
            "Epoch : 5 loss : 0.28615862131118774 acc : 94.25555419921875\n",
            "Epoch : 6 loss : 0.20864488184452057 acc : 95.5\n",
            "Epoch : 7 loss : 0.2257058024406433 acc : 95.98888397216797\n",
            "Epoch : 8 loss : 0.21312260627746582 acc : 95.63333129882812\n",
            "Epoch : 9 loss : 0.2004043161869049 acc : 95.94444274902344\n"
          ],
          "name": "stdout"
        }
      ]
    },
    {
      "cell_type": "code",
      "metadata": {
        "id": "WyVO1dYdjpsl",
        "colab_type": "code",
        "colab": {
          "base_uri": "https://localhost:8080/",
          "height": 51
        },
        "outputId": "6485f977-464a-46bc-cebe-ebcea991ca52"
      },
      "source": [
        "# test on test set\n",
        "data, label = next(iter(testtestloader))\n",
        "with torch.no_grad():\n",
        "    out = model_test(data)\n",
        "    out = torch.argmax(out,dim=1)\n",
        "    print('Acc on testset')\n",
        "    print(np.mean(label.numpy()==out.numpy()))"
      ],
      "execution_count": 52,
      "outputs": [
        {
          "output_type": "stream",
          "text": [
            "Acc on testset\n",
            "0.924\n"
          ],
          "name": "stdout"
        }
      ]
    },
    {
      "cell_type": "code",
      "metadata": {
        "id": "QVYnUXcrN6dF",
        "colab_type": "code",
        "colab": {}
      },
      "source": [
        "??pate.perform_analysis"
      ],
      "execution_count": 0,
      "outputs": []
    },
    {
      "cell_type": "code",
      "metadata": {
        "id": "VZ6NfpVnN-Oi",
        "colab_type": "code",
        "colab": {}
      },
      "source": [
        ""
      ],
      "execution_count": 0,
      "outputs": []
    }
  ]
}